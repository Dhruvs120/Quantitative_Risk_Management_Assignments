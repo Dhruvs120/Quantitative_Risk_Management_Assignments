{
 "cells": [
  {
   "cell_type": "markdown",
   "id": "4bc2ba2c",
   "metadata": {},
   "source": [
    "### Initial package imports"
   ]
  },
  {
   "cell_type": "code",
   "execution_count": 1,
   "id": "18f45638",
   "metadata": {},
   "outputs": [],
   "source": [
    "import pandas as pd\n",
    "import scipy.stats as st\n",
    "import numpy as np\n",
    "import matplotlib.pyplot as plt"
   ]
  },
  {
   "cell_type": "markdown",
   "id": "1c440bd4",
   "metadata": {},
   "source": [
    "## Initial files being read in and dataset creation"
   ]
  },
  {
   "cell_type": "code",
   "execution_count": 2,
   "id": "9a9ce118",
   "metadata": {},
   "outputs": [],
   "source": [
    "pd.set_option('display.float_format', '{:.6f}'.format)\n",
    "# Read the data\n",
    "main_df = pd.read_csv('Data/Cleaned_Indices_Assignment1.csv', sep=';')\n",
    "\n",
    "# Read the interest rate data\n",
    "#interest_rate_df = pd.read_csv('Data/ECB_Rates_2012_to_2022.csv', sep=';')\n",
    "interest_rate_bond_df = pd.read_csv('Data/ECB_Data_10yr_Treasury_bond.csv', sep=',')\n",
    "\n",
    "# Convert date columns to datetime format for proper merging\n",
    "main_df['Date'] = pd.to_datetime(main_df['Date'], format='%d-%m-%Y')\n",
    "#interest_rate_df['Date'] = pd.to_datetime(interest_rate_df['Date'], format='%d-%m-%Y')\n",
    "#gov_bond_investment_df['Date'] = pd.to_datetime(gov_bond_investment_df['Date'], format='%Y-%m-%d')\n",
    "interest_rate_bond_df['Date'] = pd.to_datetime(interest_rate_bond_df['Date'], format='%Y-%m-%d')\n",
    "\n",
    "# Merge the dataframes on the Date column\n",
    "main_df = pd.merge(main_df, interest_rate_bond_df, on='Date', how='left')\n",
    "#main_df = pd.merge(main_df, gov_bond_investment_df, on='Date', how='left')\n",
    "\n",
    "# Remove rows where the bond does not have a yield curve spot rate (Market closed?)\n",
    "main_df = main_df.dropna(axis=0, subset=['Yield curve spot rate, 10-year maturity - Government bond'])\n",
    "\n",
    "# Filter the dataframe to start from 2012-01-04\n",
    "main_df = main_df[main_df['Date'] >= '2012-01-04']\n",
    "main_df = main_df.reset_index(drop=True)\n"
   ]
  },
  {
   "cell_type": "markdown",
   "id": "5dce62c9",
   "metadata": {},
   "source": [
    "### government bond column"
   ]
  },
  {
   "cell_type": "code",
   "execution_count": 3,
   "id": "1e954a7c",
   "metadata": {},
   "outputs": [],
   "source": [
    "# Add a column for the interest bond value per day\n",
    "days_per_annum = 365\n",
    "interest_bond = 1500000\n",
    "\n",
    "# Initialize the arrays with appropriate lengths matching the DataFrame\n",
    "interest_bond_vector = np.zeros(len(main_df))\n",
    "interest_bond_profit_vector = np.zeros(len(main_df))\n",
    "interest_bond_loss_vector = np.zeros(len(main_df))\n",
    "daily_rates = np.zeros(len(main_df))\n",
    "\n",
    "# Set initial value\n",
    "interest_bond_vector[0] = interest_bond\n",
    "\n",
    "\n",
    "# Calculate bond values day by day based on the daily yield rate\n",
    "for i in range(len(main_df)):\n",
    "    # Adding 1.5% to account for the credit risk spread\n",
    "    daily_rate = (((main_df['Yield curve spot rate, 10-year maturity - Government bond'].iloc[i] + 1.5) / (days_per_annum)) * (7/5)) / 100\n",
    "    daily_rates[i] = daily_rate\n",
    "    \n",
    "    if i > 0:\n",
    "        previous_value = interest_bond_vector[i-1]\n",
    "        current_value = previous_value * (1 + daily_rate)\n",
    "        interest_bond_vector[i] = current_value\n",
    "        \n",
    "        # Calculate change, profit/loss and return\n",
    "        change = current_value - previous_value\n",
    "        interest_bond_profit_vector[i] = change\n",
    "        interest_bond_loss_vector[i] = -change\n",
    "\n",
    "# Add vectors to the dataframe\n",
    "main_df['Interest_Bond'] = interest_bond_vector\n",
    "main_df['Interest_Bond_Profit'] = interest_bond_profit_vector\n",
    "main_df['Interest_Bond_Loss'] = interest_bond_loss_vector\n",
    "main_df['Interest_Bond_daily_rate'] = daily_rates\n"
   ]
  },
  {
   "cell_type": "markdown",
   "id": "d9de917d",
   "metadata": {},
   "source": [
    "# Portfolio"
   ]
  },
  {
   "cell_type": "markdown",
   "id": "66d95594",
   "metadata": {},
   "source": [
    "### details\n",
    "#### Instruments:\n",
    "- **S&P500**\n",
    "- **DAX40**\n",
    "- **NIKKEI**\n",
    "- **EU Government Bond (10-year maturity, AAA-rated)**\n",
    "\n",
    "#### Invested amount:\n",
    "- **10,000,000 EURO**\n",
    "\n",
    "#### Period:\n",
    "- **01/01/2012 - 31/12/2022**\n",
    "\n",
    "#### Weights:\n",
    "- **S&P500**: 0.4  \n",
    "- **DAX40**: 0.3  \n",
    "- **NIKKEI**: 0.15  \n",
    "- **EU Government Bond**: 0.15  \n",
    "\n",
    "#### Measures:\n",
    "- **Value at Risk (VaR)**: 1, 5, 10 days  \n",
    "- **Expected Shortfall (ES)**  \n",
    "\n"
   ]
  },
  {
   "cell_type": "markdown",
   "id": "08d60941",
   "metadata": {},
   "source": [
    "### weights and currency correction"
   ]
  },
  {
   "cell_type": "code",
   "execution_count": 4,
   "id": "688bd314",
   "metadata": {},
   "outputs": [
    {
     "name": "stdout",
     "output_type": "stream",
     "text": [
      "[5177993.527508091, 3000000.0, 148957298.90764648, 1500000.0]\n"
     ]
    }
   ],
   "source": [
    "# initial investment \n",
    "weigths = {\n",
    "    'S&P500': 0.4,\n",
    "    'DAX40': 0.3,\n",
    "    'NIKKEI': 0.15,\n",
    "    'EU-BOND': 0.15,\n",
    "}\n",
    "\n",
    "starting_investment = 10000000  # 10 million euros\n",
    "starting_date = '2012-01-04'\n",
    "\n",
    "# Filter the main_df for the starting date\n",
    "starting_row = main_df[main_df['Date'] == starting_date]\n",
    "\n",
    "# Extract the exchange rates for the starting date\n",
    "usd_to_eur = float(starting_row['USD/EUR'].iloc[0])\n",
    "jpy_to_eur = float(starting_row['JPY/EUR'].iloc[0])\n",
    "\n",
    "# Calculate the invested amounts\n",
    "invested_amount_SP500 = starting_investment * weigths['S&P500'] / usd_to_eur\n",
    "invested_amount_DAX40 = starting_investment * weigths['DAX40']\n",
    "invested_amount_NIKKEI = starting_investment * weigths['NIKKEI'] / jpy_to_eur\n",
    "invested_amount_EU_BOND = starting_investment * weigths['EU-BOND']\n",
    "\n",
    "invested_amounts = [\n",
    "    invested_amount_SP500, #in USD\n",
    "    invested_amount_DAX40, #in EUR\n",
    "    invested_amount_NIKKEI, #in JPY\n",
    "    invested_amount_EU_BOND #in EUR\n",
    "]\n",
    "\n",
    "print(invested_amounts)\n"
   ]
  },
  {
   "cell_type": "markdown",
   "id": "d21a6bef",
   "metadata": {},
   "source": [
    "### Returns Portfolio "
   ]
  },
  {
   "cell_type": "code",
   "execution_count": null,
   "id": "49ef3e2e",
   "metadata": {},
   "outputs": [],
   "source": [
    "#create a column for the invested amount in the SP500 and multiply by the return of the next day \n",
    "main_df['SP500_Investment'] = invested_amount_SP500 * (1 + main_df['C_S&P500_Returns']).cumprod()\n",
    "main_df['DAX40_Investment'] = invested_amount_DAX40 * (1 + main_df['C_Dax40_Returns']).cumprod()\n",
    "main_df['NIKKEI_Investment'] = invested_amount_NIKKEI * (1 + main_df['C_Nikkei_Returns']).cumprod()\n",
    "main_df['EU_BOND_Investment'] = main_df['Interest_Bond']\n"
   ]
  },
  {
   "cell_type": "markdown",
   "id": "924fc2cb",
   "metadata": {},
   "source": [
    "# Methods input values"
   ]
  },
  {
   "cell_type": "markdown",
   "id": "76cd3e01",
   "metadata": {},
   "source": [
    "### Expected returns (daily)"
   ]
  },
  {
   "cell_type": "code",
   "execution_count": 1,
   "id": "62b4360c",
   "metadata": {},
   "outputs": [],
   "source": [
    "def expected_return(start, end):\n",
    "    Mu_SP500 = main_df[(main_df['Date'] >= start) & (main_df['Date'] <= end)]['C_S&P500_Returns'].mean() \n",
    "    Mu_DAX40= main_df[(main_df['Date'] >= start) & (main_df['Date'] <= end)]['C_Dax40_Returns'].mean() \n",
    "    Mu_NIKKEI= main_df[(main_df['Date'] >= start) & (main_df['Date'] <= end)]['C_Nikkei_Returns'].mean() \n",
    "    Mu_EU_BOND= main_df[(main_df['Date'] >= start) & (main_df['Date'] <= end)]['Interest_Bond_daily_rate'].mean() \n",
    "    Mu= [Mu_SP500, Mu_DAX40, Mu_NIKKEI, Mu_EU_BOND]  \n",
    "    return Mu\n"
   ]
  },
  {
   "cell_type": "markdown",
   "id": "3b81c989",
   "metadata": {},
   "source": [
    "### Variances (daily)"
   ]
  },
  {
   "cell_type": "code",
   "execution_count": 2,
   "id": "a3e8e1ab",
   "metadata": {},
   "outputs": [],
   "source": [
    "def variances(start, end):\n",
    "    var_SP500 = main_df[(main_df['Date'] >= start) & (main_df['Date'] <= end)]['C_S&P500_Returns'].var()\n",
    "    var_DAX40 = main_df[(main_df['Date'] >= start) & (main_df['Date'] <= end)]['C_Dax40_Returns'].var()\n",
    "    var_NIKKEI = main_df[(main_df['Date'] >= start) & (main_df['Date'] <= end)]['C_Nikkei_Returns'].var()\n",
    "    var_EU_BOND = main_df[(main_df['Date'] >= start) & (main_df['Date'] <= end)]['Interest_Bond_daily_rate'].var()\n",
    "    variances = [var_SP500, var_DAX40, var_NIKKEI, var_EU_BOND] \n",
    "    return variances"
   ]
  },
  {
   "cell_type": "markdown",
   "id": "e346e2cc",
   "metadata": {},
   "source": [
    "### Covariance matrix "
   ]
  },
  {
   "cell_type": "code",
   "execution_count": 4,
   "id": "24ad26cb",
   "metadata": {},
   "outputs": [],
   "source": [
    "def covariance_matrix(start, end):\n",
    "    df = main_df[(main_df['Date'] >= start) & (main_df['Date'] <= end)]\n",
    "    returns = df[['C_S&P500_Returns', 'C_Dax40_Returns', 'C_Nikkei_Returns', 'Interest_Bond_daily_rate']]\n",
    "    cov_matrix = returns.cov()\n",
    "    return cov_matrix"
   ]
  },
  {
   "cell_type": "markdown",
   "id": "72986b3d",
   "metadata": {},
   "source": [
    "### Portfolio weighted variance & standard deviation"
   ]
  },
  {
   "cell_type": "code",
   "execution_count": 6,
   "id": "113c41b8",
   "metadata": {},
   "outputs": [],
   "source": [
    "def var_p(start, end):\n",
    "    weights = np.array([weigths['S&P500'], weigths['DAX40'], weigths['NIKKEI'], weigths['EU-BOND']])\n",
    "    cov_matrix = covariance_matrix(start, end)\n",
    "    port_variance = np.dot(weights.T, np.dot(cov_matrix, weights))\n",
    "    return port_variance"
   ]
  },
  {
   "cell_type": "markdown",
   "id": "4e2842c0",
   "metadata": {},
   "source": [
    "# Value at Risk (VaR)"
   ]
  },
  {
   "cell_type": "code",
   "execution_count": 10,
   "id": "f418d48b",
   "metadata": {},
   "outputs": [],
   "source": [
    "def VaR(alpha, r= 0, s= 1, df= 0):\n",
    "    \"\"\"\n",
    "    Purpose:\n",
    "        Get the VaR of the normal model\n",
    "\n",
    "    Inputs:\n",
    "        alpha   double, level\n",
    "        r       double, expected return\n",
    "        s       double, volatility\n",
    "        df      (optional) double, degrees of freedom for student-t\n",
    "\n",
    "    Return value:\n",
    "        dVaR    double, VaR\n",
    "    \"\"\"\n",
    "    if (df == 0):\n",
    "        dVaR0= st.norm.ppf(alpha)\n",
    "\n",
    "        dVaR= r + s*dVaR0\n",
    "    else:\n",
    "        dVaR0= st.t.ppf(alpha, df= df)\n",
    "\n",
    "        dS2t= df/(df-2)\n",
    "        c= s / np.sqrt(dS2t)\n",
    "        dVaR= r + c*dVaR0\n",
    "\n",
    "    return dVaR"
   ]
  },
  {
   "cell_type": "markdown",
   "id": "7a093ab9",
   "metadata": {},
   "source": [
    "# Expected Shortfall (ES)"
   ]
  },
  {
   "cell_type": "code",
   "execution_count": 11,
   "id": "9ca6884d",
   "metadata": {},
   "outputs": [],
   "source": [
    "def ES(alpha, r= 0, s= 1, df= 0):\n",
    "    \"\"\"\n",
    "    Purpose:\n",
    "        Get the ES of the normal/student model\n",
    "\n",
    "    Inputs:\n",
    "        alpha   double, level\n",
    "        r       double, expected return\n",
    "        s       double, volatility\n",
    "        df      (optional, default= 0/normal) double, df\n",
    "\n",
    "    Return value:\n",
    "        dES     double, ES\n",
    "    \"\"\"\n",
    "    if (df == 0):\n",
    "        dVaR0= st.norm.ppf(alpha)\n",
    "        dES0= st.norm.pdf(dVaR0) / (1-alpha)\n",
    "        dES= r + s*dES0\n",
    "    else:\n",
    "        dVaR0= st.t.ppf(alpha, df= df)\n",
    "        dES0= st.t.pdf(dVaR0, df= df)*((df + dVaR0**2)/(df-1)) / (1-alpha)\n",
    "\n",
    "        dS2t= df/(df-2)\n",
    "        c= s / np.sqrt(dS2t)\n",
    "        dES= r + c*dES0\n",
    "\n",
    "    return dES"
   ]
  },
  {
   "cell_type": "markdown",
   "id": "03a966f1",
   "metadata": {},
   "source": [
    "# performing different methods"
   ]
  },
  {
   "cell_type": "markdown",
   "id": "359cc105",
   "metadata": {},
   "source": [
    "write method for variance covariance where the sample period is an input parameter\n",
    "alongside other parameters that are needed for the calculation"
   ]
  },
  {
   "cell_type": "markdown",
   "id": "e618b405",
   "metadata": {},
   "source": [
    "## 1. var/cov multivar normal dist\n"
   ]
  },
  {
   "cell_type": "markdown",
   "id": "61adaf21",
   "metadata": {},
   "source": [
    "## 2. var/cov multivar on t-dist"
   ]
  },
  {
   "cell_type": "markdown",
   "id": "af9ff468",
   "metadata": {},
   "source": [
    "## 3. historical simulation"
   ]
  },
  {
   "cell_type": "markdown",
   "id": "715957fe",
   "metadata": {},
   "source": [
    "# Main method"
   ]
  },
  {
   "cell_type": "code",
   "execution_count": null,
   "id": "3e631c8f",
   "metadata": {},
   "outputs": [],
   "source": [
    "def main():\n",
    "    # Magic numbers\n",
    "    vN = len(main_df[(main_df['Date'] >= '2012-01-04') & (main_df['Date'] <= '2021-12-31')])\n",
    "    dMu = Pmu  #must be estimated via different methods\n",
    "    dSy= Pvol #must be estimated via different methods\n",
    "    vAlpha= [.95, .99]\n",
    "    iDF= 6\n",
    "\n",
    "    # Initialisation\n",
    "    vAlpha= np.array(vAlpha)\n",
    "\n",
    "    # Estimation\n",
    "    vVaR= VaR(vAlpha, dMu, dSy)\n",
    "    vVaRt= VaR(vAlpha, dMu, dSy, df= iDF)\n",
    "    print ('var, vart:', vVaR, vVaRt)\n",
    "\n",
    "    vES= ES(vAlpha, dMu, dSy)\n",
    "    vESt= ES(vAlpha, dMu, dSy, df= iDF)\n",
    "    print ('es, est:', vES, vESt)\n",
    "\n",
    "    vN= dMu+dSy*st.norm.rvs(size= 10000000)\n",
    "    print (f'Simulating Norm, mean= {vN.mean()}, std= {vN.std()}')\n",
    "\n",
    "    dVaRs= np.quantile(vN, .95)\n",
    "    vI= vN >= dVaRs\n",
    "    print (f'Sim, var= {dVaRs}, ES= {vN[vI].mean()}')\n",
    "\n",
    "    dS2t= iDF/(iDF-2)\n",
    "    dC= dSy / np.sqrt(dS2t)\n",
    "    vT= dMu+dC*st.t.rvs(df= iDF, size= 10000000)\n",
    "    print (f'Simulating t({iDF}), mean= {vT.mean()}, std= {vT.std()}')\n",
    "\n",
    "    dVaRt= np.quantile(vT, .95)\n",
    "    vI= vT >= dVaRt\n",
    "    print (f'Sim, vart= {dVaRt}, ES= {vT[vI].mean()}')\n",
    "\n",
    "    np.quantile(vT, .99)\n",
    "    VaR(.95, 0, 1)\n"
   ]
  },
  {
   "cell_type": "markdown",
   "id": "9ef8c91c",
   "metadata": {},
   "source": [
    "# For Loop"
   ]
  },
  {
   "cell_type": "code",
   "execution_count": 14,
   "id": "189ea4a5",
   "metadata": {},
   "outputs": [],
   "source": [
    "def calculate_mean_return(window, current_date):\n",
    "    \"\"\"\n",
    "    Calculate the mean returns for each index and the portfolio mean return.\n",
    "    \"\"\"\n",
    "    return {\n",
    "        'Date': current_date,\n",
    "        'SP500_Mean_Return': window['C_S&P500_Returns'].mean(),\n",
    "        'DAX40_Mean_Return': window['C_Dax40_Returns'].mean(),\n",
    "        'NIKKEI_Mean_Return': window['C_Nikkei_Returns'].mean(),\n",
    "        'EU_Bond_Mean_Return': window['Interest_Bond_daily_rate'].mean(),\n",
    "        'Portfolio_Mean_Return': (\n",
    "            weigths['S&P500'] * window['C_S&P500_Returns'].mean() +\n",
    "            weigths['DAX40'] * window['C_Dax40_Returns'].mean() +\n",
    "            weigths['NIKKEI'] * window['C_Nikkei_Returns'].mean() +\n",
    "            weigths['EU-BOND'] * window['Interest_Bond_daily_rate'].mean()\n",
    "        )\n",
    "    }"
   ]
  },
  {
   "cell_type": "code",
   "execution_count": 15,
   "id": "7cddafc2",
   "metadata": {},
   "outputs": [],
   "source": [
    "def calculate_variance_return(window, current_date, weights):\n",
    "    \"\"\"\n",
    "    Calculate the variance returns for each index and the portfolio variance and volatility.\n",
    "    \"\"\"\n",
    "    variance_return = {\n",
    "        'Date': current_date,\n",
    "        'SP500_Var_Return': window['C_S&P500_Returns'].var(),\n",
    "        'DAX40_Var_Return': window['C_Dax40_Returns'].var(),\n",
    "        'NIKKEI_Var_Return': window['C_Nikkei_Returns'].var(),\n",
    "        'EU_Bond_Var_Return': window['Interest_Bond_daily_rate'].var()\n",
    "    }\n",
    "\n",
    "    # Calculate the covariance matrix for the returns in the window\n",
    "    covariance_matrix = window[['C_S&P500_Returns', 'C_Dax40_Returns', 'C_Nikkei_Returns', 'Interest_Bond_daily_rate']].cov()\n",
    "\n",
    "    # Calculate the portfolio variance using the covariance matrix and weights\n",
    "    portfolio_variance = np.dot(weights.T, np.dot(covariance_matrix.values, weights))\n",
    "    portfolio_volatility = np.sqrt(portfolio_variance)\n",
    "\n",
    "    # Add portfolio variance and volatility to the variance_return dictionary\n",
    "    variance_return['Portfolio_Variance'] = portfolio_variance\n",
    "    variance_return['Portfolio_Volatility'] = portfolio_volatility\n",
    "\n",
    "    return variance_return"
   ]
  },
  {
   "cell_type": "code",
   "execution_count": 16,
   "id": "4b16a3b1",
   "metadata": {},
   "outputs": [],
   "source": [
    "def calculate_VaR(Alpha, mean_return, variance_return, DF):\n",
    "    if DF == 0:\n",
    "        crit_val = st.norm.ppf(Alpha)\n",
    "        VaR = mean_return['Portfolio_Mean_Return'] + variance_return['Portfolio_Volatility'] * crit_val\n",
    "    else:\n",
    "        crit_val = st.t.ppf(Alpha, df=DF)\n",
    "        scale = variance_return['Portfolio_Volatility'] / np.sqrt(DF / (DF - 2))\n",
    "        VaR = mean_return['Portfolio_Mean_Return'] + scale * crit_val\n",
    "    return VaR"
   ]
  },
  {
   "cell_type": "code",
   "execution_count": 17,
   "id": "d381306c",
   "metadata": {},
   "outputs": [],
   "source": [
    "def calculate_ES(vAlpha, mean_return, variance_return, DF):\n",
    "    if DF == 0:\n",
    "        crit_val = st.norm.ppf(vAlpha)\n",
    "        crit_val_ES = st.norm.pdf(crit_val) / (1 - vAlpha)\n",
    "            \n",
    "        ES_value = mean_return['Portfolio_Mean_Return'] + variance_return['Portfolio_Volatility'] * crit_val_ES\n",
    "    else:\n",
    "        crit_val = st.t.ppf(vAlpha, df=DF)\n",
    "        crit_val_ES = st.t.pdf(crit_val, df=DF) * ((DF + crit_val ** 2) / (DF - 1)) / (1 - vAlpha) \n",
    "        scale = variance_return['Portfolio_Volatility'] / np.sqrt(DF / (DF - 2))\n",
    "            \n",
    "        ES_value = mean_return['Portfolio_Mean_Return'] + scale * crit_val_ES\n",
    "\n",
    "    return ES_value"
   ]
  },
  {
   "cell_type": "code",
   "execution_count": 18,
   "id": "3a7e3d7b",
   "metadata": {},
   "outputs": [
    {
     "data": {
      "text/html": [
       "<div>\n",
       "<style scoped>\n",
       "    .dataframe tbody tr th:only-of-type {\n",
       "        vertical-align: middle;\n",
       "    }\n",
       "\n",
       "    .dataframe tbody tr th {\n",
       "        vertical-align: top;\n",
       "    }\n",
       "\n",
       "    .dataframe thead th {\n",
       "        text-align: right;\n",
       "    }\n",
       "</style>\n",
       "<table border=\"1\" class=\"dataframe\">\n",
       "  <thead>\n",
       "    <tr style=\"text-align: right;\">\n",
       "      <th></th>\n",
       "      <th>Date</th>\n",
       "      <th>VaR Normal</th>\n",
       "      <th>VaR T3</th>\n",
       "      <th>VaR T4</th>\n",
       "      <th>VaR T5</th>\n",
       "      <th>VaR T6</th>\n",
       "    </tr>\n",
       "  </thead>\n",
       "  <tbody>\n",
       "    <tr>\n",
       "      <th>0</th>\n",
       "      <td>2013-12-17</td>\n",
       "      <td>[0.008602923098597772, 0.011966379949309077]</td>\n",
       "      <td>[0.007190710322248997, 0.013423453323561547]</td>\n",
       "      <td>[0.007924746219772993, 0.013561229818344591]</td>\n",
       "      <td>[0.008188329155127207, 0.013348867121458668]</td>\n",
       "      <td>[0.008315417553343406, 0.013149054070694307]</td>\n",
       "    </tr>\n",
       "    <tr>\n",
       "      <th>1</th>\n",
       "      <td>2013-12-18</td>\n",
       "      <td>[0.008592071646998692, 0.011954297901457281]</td>\n",
       "      <td>[0.007180375560421111, 0.013410838172680968]</td>\n",
       "      <td>[0.007914142894421047, 0.013548564258838092]</td>\n",
       "      <td>[0.008177629392036673, 0.013336279259615795]</td>\n",
       "      <td>[0.008304671292107196, 0.013136539314945083]</td>\n",
       "    </tr>\n",
       "    <tr>\n",
       "      <th>2</th>\n",
       "      <td>2013-12-19</td>\n",
       "      <td>[0.00862683729572483, 0.01199694272267383]</td>\n",
       "      <td>[0.007211832985331125, 0.01345689630732965]</td>\n",
       "      <td>[0.007947319858396806, 0.01359494514618309]</td>\n",
       "      <td>[0.008211423820575043, 0.013382162669991841]</td>\n",
       "      <td>[0.008338763435602388, 0.01318195464692361]</td>\n",
       "    </tr>\n",
       "    <tr>\n",
       "      <th>3</th>\n",
       "      <td>2013-12-20</td>\n",
       "      <td>[0.00864487691337611, 0.01201621656108816]</td>\n",
       "      <td>[0.007229354391390056, 0.013476704818936355]</td>\n",
       "      <td>[0.007965110618987624, 0.013614804214885687]</td>\n",
       "      <td>[0.00822931130294528, 0.01340194381218566]</td>\n",
       "      <td>[0.008356697553070615, 0.013201662467702312]</td>\n",
       "    </tr>\n",
       "    <tr>\n",
       "      <th>4</th>\n",
       "      <td>2013-12-23</td>\n",
       "      <td>[0.008656314495360792, 0.012028430943841982]</td>\n",
       "      <td>[0.007240465818463423, 0.013489255717295414]</td>\n",
       "      <td>[0.007976391573923273, 0.013627386933152618]</td>\n",
       "      <td>[0.008240653133175601, 0.01341447748463051]</td>\n",
       "      <td>[0.00836806873475983, 0.013214149992704692]</td>\n",
       "    </tr>\n",
       "  </tbody>\n",
       "</table>\n",
       "</div>"
      ],
      "text/plain": [
       "        Date                                    VaR Normal  \\\n",
       "0 2013-12-17  [0.008602923098597772, 0.011966379949309077]   \n",
       "1 2013-12-18  [0.008592071646998692, 0.011954297901457281]   \n",
       "2 2013-12-19    [0.00862683729572483, 0.01199694272267383]   \n",
       "3 2013-12-20    [0.00864487691337611, 0.01201621656108816]   \n",
       "4 2013-12-23  [0.008656314495360792, 0.012028430943841982]   \n",
       "\n",
       "                                         VaR T3  \\\n",
       "0  [0.007190710322248997, 0.013423453323561547]   \n",
       "1  [0.007180375560421111, 0.013410838172680968]   \n",
       "2   [0.007211832985331125, 0.01345689630732965]   \n",
       "3  [0.007229354391390056, 0.013476704818936355]   \n",
       "4  [0.007240465818463423, 0.013489255717295414]   \n",
       "\n",
       "                                         VaR T4  \\\n",
       "0  [0.007924746219772993, 0.013561229818344591]   \n",
       "1  [0.007914142894421047, 0.013548564258838092]   \n",
       "2   [0.007947319858396806, 0.01359494514618309]   \n",
       "3  [0.007965110618987624, 0.013614804214885687]   \n",
       "4  [0.007976391573923273, 0.013627386933152618]   \n",
       "\n",
       "                                         VaR T5  \\\n",
       "0  [0.008188329155127207, 0.013348867121458668]   \n",
       "1  [0.008177629392036673, 0.013336279259615795]   \n",
       "2  [0.008211423820575043, 0.013382162669991841]   \n",
       "3    [0.00822931130294528, 0.01340194381218566]   \n",
       "4   [0.008240653133175601, 0.01341447748463051]   \n",
       "\n",
       "                                         VaR T6  \n",
       "0  [0.008315417553343406, 0.013149054070694307]  \n",
       "1  [0.008304671292107196, 0.013136539314945083]  \n",
       "2   [0.008338763435602388, 0.01318195464692361]  \n",
       "3  [0.008356697553070615, 0.013201662467702312]  \n",
       "4   [0.00836806873475983, 0.013214149992704692]  "
      ]
     },
     "metadata": {},
     "output_type": "display_data"
    },
    {
     "data": {
      "text/html": [
       "<div>\n",
       "<style scoped>\n",
       "    .dataframe tbody tr th:only-of-type {\n",
       "        vertical-align: middle;\n",
       "    }\n",
       "\n",
       "    .dataframe tbody tr th {\n",
       "        vertical-align: top;\n",
       "    }\n",
       "\n",
       "    .dataframe thead th {\n",
       "        text-align: right;\n",
       "    }\n",
       "</style>\n",
       "<table border=\"1\" class=\"dataframe\">\n",
       "  <thead>\n",
       "    <tr style=\"text-align: right;\">\n",
       "      <th></th>\n",
       "      <th>Date</th>\n",
       "      <th>ES Normal</th>\n",
       "      <th>ES T3</th>\n",
       "      <th>ES T4</th>\n",
       "      <th>ES T5</th>\n",
       "      <th>ES T6</th>\n",
       "    </tr>\n",
       "  </thead>\n",
       "  <tbody>\n",
       "    <tr>\n",
       "      <th>0</th>\n",
       "      <td>2013-12-17</td>\n",
       "      <td>[0.010665231517892806, 0.013638825958681596]</td>\n",
       "      <td>[0.011524470403511797, 0.020439911959279224]</td>\n",
       "      <td>[0.011662474406968527, 0.01870402382238797]</td>\n",
       "      <td>[0.011533723621353171, 0.017506328304870897]</td>\n",
       "      <td>[0.011408485059072871, 0.016734963936047904]</td>\n",
       "    </tr>\n",
       "    <tr>\n",
       "      <th>1</th>\n",
       "      <td>2013-12-18</td>\n",
       "      <td>[0.010653625524426422, 0.01362613200888387]</td>\n",
       "      <td>[0.01151255003819533, 0.020424729679374046]</td>\n",
       "      <td>[0.011650503549786981, 0.01868947665615638]</td>\n",
       "      <td>[0.011521799870539074, 0.01749221934245198]</td>\n",
       "      <td>[0.011396607129600412, 0.016721137194612896]</td>\n",
       "    </tr>\n",
       "    <tr>\n",
       "      <th>2</th>\n",
       "      <td>2013-12-19</td>\n",
       "      <td>[0.010693222299129578, 0.013672694671527747]</td>\n",
       "      <td>[0.011554159650193794, 0.02048722444166996]</td>\n",
       "      <td>[0.011692436447439418, 0.018747904958657587]</td>\n",
       "      <td>[0.011563431158956382, 0.01754784194534342]</td>\n",
       "      <td>[0.011437945036452722, 0.016774952813444582]</td>\n",
       "    </tr>\n",
       "    <tr>\n",
       "      <th>3</th>\n",
       "      <td>2013-12-20</td>\n",
       "      <td>[0.0107120186810219, 0.013692582214140308]</td>\n",
       "      <td>[0.011573271329864599, 0.020509607643339787]</td>\n",
       "      <td>[0.01171159876769044, 0.01876965117603537]</td>\n",
       "      <td>[0.01158254623409622, 0.017569148668254306]</td>\n",
       "      <td>[0.011457014155292017, 0.016795976484138022]</td>\n",
       "    </tr>\n",
       "    <tr>\n",
       "      <th>4</th>\n",
       "      <td>2013-12-23</td>\n",
       "      <td>[0.010723932559518598, 0.013705182853476]</td>\n",
       "      <td>[0.011585383652241165, 0.020523779014535806]</td>\n",
       "      <td>[0.01172374296251871, 0.018783421638493825]</td>\n",
       "      <td>[0.011594660693532084, 0.017582642519226276]</td>\n",
       "      <td>[0.011469099690494327, 0.01680929218612174]</td>\n",
       "    </tr>\n",
       "  </tbody>\n",
       "</table>\n",
       "</div>"
      ],
      "text/plain": [
       "        Date                                     ES Normal  \\\n",
       "0 2013-12-17  [0.010665231517892806, 0.013638825958681596]   \n",
       "1 2013-12-18   [0.010653625524426422, 0.01362613200888387]   \n",
       "2 2013-12-19  [0.010693222299129578, 0.013672694671527747]   \n",
       "3 2013-12-20    [0.0107120186810219, 0.013692582214140308]   \n",
       "4 2013-12-23     [0.010723932559518598, 0.013705182853476]   \n",
       "\n",
       "                                          ES T3  \\\n",
       "0  [0.011524470403511797, 0.020439911959279224]   \n",
       "1   [0.01151255003819533, 0.020424729679374046]   \n",
       "2   [0.011554159650193794, 0.02048722444166996]   \n",
       "3  [0.011573271329864599, 0.020509607643339787]   \n",
       "4  [0.011585383652241165, 0.020523779014535806]   \n",
       "\n",
       "                                          ES T4  \\\n",
       "0   [0.011662474406968527, 0.01870402382238797]   \n",
       "1   [0.011650503549786981, 0.01868947665615638]   \n",
       "2  [0.011692436447439418, 0.018747904958657587]   \n",
       "3    [0.01171159876769044, 0.01876965117603537]   \n",
       "4   [0.01172374296251871, 0.018783421638493825]   \n",
       "\n",
       "                                          ES T5  \\\n",
       "0  [0.011533723621353171, 0.017506328304870897]   \n",
       "1   [0.011521799870539074, 0.01749221934245198]   \n",
       "2   [0.011563431158956382, 0.01754784194534342]   \n",
       "3   [0.01158254623409622, 0.017569148668254306]   \n",
       "4  [0.011594660693532084, 0.017582642519226276]   \n",
       "\n",
       "                                          ES T6  \n",
       "0  [0.011408485059072871, 0.016734963936047904]  \n",
       "1  [0.011396607129600412, 0.016721137194612896]  \n",
       "2  [0.011437945036452722, 0.016774952813444582]  \n",
       "3  [0.011457014155292017, 0.016795976484138022]  \n",
       "4   [0.011469099690494327, 0.01680929218612174]  "
      ]
     },
     "metadata": {},
     "output_type": "display_data"
    }
   ],
   "source": [
    "# Initialize lists to store results\n",
    "mean_returns = []\n",
    "variance_returns = []\n",
    "VaR_results = []\n",
    "ES_results = []  # List to store VaR results\n",
    "time_window = main_df[(main_df['Date'] >= '2012-01-04') & (main_df['Date'] <= '2021-12-31')]\n",
    "\n",
    "vAlpha= [.95, .99]\n",
    "DF= 0\n",
    "\n",
    "# Initialisation\n",
    "vAlpha= np.array(vAlpha)\n",
    "\n",
    "# Iterate through the DataFrame with a rolling window of 500 days\n",
    "sample_size = 500\n",
    "\n",
    "for i in range(sample_size, len(time_window)):\n",
    "    # Extract the window of 500 days\n",
    "    window = time_window.iloc[i - sample_size:i]\n",
    "    current_date = time_window.iloc[i]['Date']\n",
    "    \n",
    "    # Calculate mean and variance returns using the functions\n",
    "    mean_return = calculate_mean_return(window, current_date)\n",
    "    variance_return = calculate_variance_return(window, current_date, weights)\n",
    "    \n",
    "    # Append the results to the lists\n",
    "    mean_returns.append(mean_return)\n",
    "    variance_returns.append(variance_return)\n",
    "    \n",
    "    # Calculate VaR\n",
    "    VaR0 = calculate_VaR(vAlpha, mean_return, variance_return, 0)\n",
    "    VaR3 = calculate_VaR(vAlpha, mean_return, variance_return, 3)\n",
    "    VaR4 = calculate_VaR(vAlpha, mean_return, variance_return, 4)\n",
    "    VaR5 = calculate_VaR(vAlpha, mean_return, variance_return, 5)\n",
    "    VaR6 = calculate_VaR(vAlpha, mean_return, variance_return, 6)\n",
    "\n",
    "    ES0 = calculate_ES(vAlpha, mean_return, variance_return, 0)\n",
    "    ES3 = calculate_ES(vAlpha, mean_return, variance_return, 3)\n",
    "    ES4 = calculate_ES(vAlpha, mean_return, variance_return, 4)\n",
    "    ES5 = calculate_ES(vAlpha, mean_return, variance_return, 5)\n",
    "    ES6 = calculate_ES(vAlpha, mean_return, variance_return, 6)\n",
    "    \n",
    "    # Append VaR results to the same index\n",
    "    \n",
    "    VaR_results.append({\n",
    "        'Date': current_date,\n",
    "        'VaR Normal': VaR0,\n",
    "        'VaR T3': VaR3,\n",
    "        'VaR T4': VaR4,\n",
    "        'VaR T5': VaR5,\n",
    "        'VaR T6': VaR6\n",
    "    })\n",
    "    \n",
    "    ES_results.append({\n",
    "        'Date': current_date,\n",
    "        'ES Normal': ES0,\n",
    "        'ES T3': ES3,\n",
    "        'ES T4': ES4,\n",
    "        'ES T5': ES5,\n",
    "        'ES T6': ES6\n",
    "    })\n",
    "\n",
    "# Convert the results to DataFrames for easier analysis\n",
    "mean_returns_df = pd.DataFrame(mean_returns)\n",
    "variance_returns_df = pd.DataFrame(variance_returns)\n",
    "var_results_df = pd.DataFrame(VaR_results)\n",
    "es_results_df = pd.DataFrame(ES_results)\n",
    "\n",
    "# Display the results\n",
    "display(var_results_df.head())\n",
    "display(es_results_df.head())\n"
   ]
  },
  {
   "cell_type": "markdown",
   "id": "c3798712",
   "metadata": {},
   "source": [
    "## Historical simulation"
   ]
  },
  {
   "cell_type": "code",
   "execution_count": 26,
   "id": "f82198e0",
   "metadata": {},
   "outputs": [
    {
     "name": "stdout",
     "output_type": "stream",
     "text": [
      "VaR (S&P500) at 95.0% confidence level: 31.027729599999944\n",
      "ES (S&P500) at 95.0% confidence level: 59.257054484375004\n"
     ]
    },
    {
     "data": {
      "image/png": "[encoded data removed]",
      "text/plain": [
       "<Figure size 1000x600 with 1 Axes>"
      ]
     },
     "metadata": {},
     "output_type": "display_data"
    }
   ],
   "source": [
    "# Define the confidence level\n",
    "confidence_level = 0.95\n",
    "\n",
    "# Extract historical losses for S&P500 for the specified period\n",
    "sp500_losses = main_df[(main_df['Date'] >= '2012-01-04') & (main_df['Date'] <= '2021-12-31')]['C_S&P500_Loss']\n",
    "\n",
    "# Sort the losses in ascending order (smallest loss first, largest loss last)\n",
    "sorted_losses = sp500_losses.sort_values()\n",
    "\n",
    "# Calculate VaR at the specified confidence level\n",
    "# This finds the value at the threshold separating the worst (1-confidence_level)% losses\n",
    "VaR_sp500 = sorted_losses.quantile(confidence_level)\n",
    "\n",
    "# Calculate ES (Expected Shortfall)\n",
    "# This is the average of the losses that are greater than or equal to the VaR value\n",
    "tail_sp_losses = sorted_losses[sorted_losses >= VaR_sp500]\n",
    "ES_sp500 = tail_sp_losses.mean()\n",
    "\n",
    "print(f\"VaR (S&P500) at {confidence_level * 100}% confidence level: {VaR_sp500}\")\n",
    "print(f\"ES (S&P500) at {confidence_level * 100}% confidence level: {ES_sp500}\")\n",
    "\n",
    "# Plot the sorted losses (Empirical Cumulative Distribution Function - CDF)\n",
    "plt.figure(figsize=(10, 6))\n",
    "# Plotting the empirical CDF: x-axis is loss value, y-axis is cumulative probability\n",
    "plt.plot(sorted_losses.values, np.linspace(0, 1, len(sorted_losses), endpoint=False), label='Sorted Losses CDF', color='blue')\n",
    "\n",
    "# Highlight VaR and ES on the graph\n",
    "# VaR is the loss value at the confidence level percentile\n",
    "plt.axvline(x=VaR_sp500, color='red', linestyle='--', label=f'VaR ({confidence_level * 100}%) = {VaR_sp500:.4f}')\n",
    "# ES is the average loss in the tail beyond VaR\n",
    "plt.axvline(x=ES_sp500, color='green', linestyle='--', label=f'ES ({confidence_level * 100}%) = {ES_sp500:.4f}')\n",
    "\n",
    "# Add labels, title, and legend\n",
    "plt.xlabel('Losses')\n",
    "plt.ylabel('Cumulative Probability') # Changed from 'Probability' to be more precise for CDF\n",
    "plt.title('Sorted S&P 500 Losses CDF with VaR and ES (Historical Simulation)')\n",
    "plt.legend()\n",
    "plt.grid(True) # Changed grid() to grid(True) for clarity\n",
    "plt.show()"
   ]
  },
  {
   "cell_type": "code",
   "execution_count": 43,
   "id": "47b72584",
   "metadata": {
    "vscode": {
     "languageId": "ruby"
    }
   },
   "outputs": [],
   "source": [
    "# # Define the confidence level, DIT IS NOG GEEN VASTE WAARDE, MEER VOOR GEMAK NU\n",
    "# confidence_level = 0.95\n",
    "\n",
    "# # Extract historical losses for S&P500\n",
    "# sp500_losses = main_df[(main_df['Date'] >= '2012-01-04') & (main_df['Date'] <= '2021-12-31')]['C_S&P500_Loss']\n",
    "\n",
    "# # Sort the losses in ascending order\n",
    "# sorted_losses = sp500_losses.sort_values()\n",
    "\n",
    "# # Calculate the index for the VaR based on the confidence level\n",
    "# var_index = int((1 - confidence_level) * len(sorted_losses))\n",
    "\n",
    "# # Calculate VaR\n",
    "# VaR_sp500 = sorted_losses.iloc[var_index]\n",
    "\n",
    "# # Calculate ES (average of losses beyond VaR)\n",
    "# ES_sp500 = sorted_losses.iloc[:var_index].mean()\n",
    "\n",
    "# print(f\"VaR (S&P500) at {confidence_level * 100}% confidence level: {VaR_sp500}\")\n",
    "# print(f\"ES (S&P500) at {confidence_level * 100}% confidence level: {ES_sp500}\")\n",
    "\n",
    "# # Plot the sorted losses as a line graph\n",
    "# plt.figure(figsize=(10, 6))\n",
    "# plt.plot(sorted_losses.values, np.linspace(0, 1, len(sorted_losses), endpoint=False), label='Sorted Losses', color='blue')\n",
    "\n",
    "# # Highlight VaR and ES on the graph\n",
    "# plt.axvline(x=VaR_sp500, color='red', linestyle='--', label=f'VaR ({confidence_level * 100}%)')\n",
    "# plt.axvline(x=ES_sp500, color='green', linestyle='--', label=f'ES ({confidence_level * 100}%)')\n",
    "\n",
    "# # Add labels, title, and legend\n",
    "# plt.xlabel('Losses')\n",
    "# plt.ylabel('Probability')\n",
    "# plt.title('Sorted Losses with VaR and ES')\n",
    "# plt.legend()\n",
    "# plt.grid()\n",
    "# plt.show()\n"
   ]
  },
  {
   "cell_type": "code",
   "execution_count": 27,
   "id": "02371087",
   "metadata": {},
   "outputs": [
    {
     "name": "stdout",
     "output_type": "stream",
     "text": [
      "VaR (DAX40) at 95.0% confidence level: 199.3679999999997\n",
      "ES (DAX40) at 95.0% confidence level: 314.866953125\n"
     ]
    },
    {
     "data": {
      "image/png": "[encoded data removed]",
      "text/plain": [
       "<Figure size 1000x600 with 1 Axes>"
      ]
     },
     "metadata": {},
     "output_type": "display_data"
    }
   ],
   "source": [
    "confidence_level = 0.95\n",
    "# Extract historical losses for DAX40\n",
    "dax40_losses = main_df[(main_df['Date'] >= '2012-01-04') & (main_df['Date'] <= '2021-12-31')]['C_Dax40_Loss']\n",
    "\n",
    "# Sort the losses in ascending order\n",
    "sorted_dax40_losses = dax40_losses.sort_values()\n",
    "\n",
    "# Calculate VaR at the specified confidence level\n",
    "# This finds the value at the threshold separating the worst (1-confidence_level)% losses\n",
    "VaR_dax40 = sorted_dax40_losses.quantile(confidence_level)\n",
    "\n",
    "# Calculate ES (Expected Shortfall)\n",
    "# This is the average of the losses that are greater than or equal to the VaR value\n",
    "tail_dax_losses = sorted_dax40_losses[sorted_dax40_losses >= VaR_dax40]\n",
    "ES_dax40 = tail_dax_losses.mean()\n",
    "\n",
    "print(f\"VaR (DAX40) at {confidence_level * 100}% confidence level: {VaR_dax40}\")\n",
    "print(f\"ES (DAX40) at {confidence_level * 100}% confidence level: {ES_dax40}\")\n",
    "\n",
    "# Plot the sorted losses as a line graph\n",
    "plt.figure(figsize=(10, 6))\n",
    "plt.plot(sorted_dax40_losses.values, np.linspace(0, 1, len(sorted_dax40_losses), endpoint=False), label='Sorted Losses', color='blue')\n",
    "\n",
    "# Highlight VaR and ES on the graph\n",
    "plt.axvline(x=VaR_dax40, color='red', linestyle='--', label=f'VaR ({confidence_level * 100}%)')\n",
    "plt.axvline(x=ES_dax40, color='green', linestyle='--', label=f'ES ({confidence_level * 100}%)')\n",
    "\n",
    "# Add labels, title, and legend\n",
    "plt.xlabel('Losses')\n",
    "plt.ylabel('Probability')\n",
    "plt.title('Sorted Losses with VaR and ES for DAX40')\n",
    "plt.legend()\n",
    "plt.grid()\n",
    "plt.show()"
   ]
  },
  {
   "cell_type": "code",
   "execution_count": 45,
   "id": "78cf5bf1",
   "metadata": {
    "vscode": {
     "languageId": "ruby"
    }
   },
   "outputs": [],
   "source": [
    "# confidence_level = 0.95\n",
    "# # Extract historical losses for DAX40\n",
    "# dax40_losses = main_df[(main_df['Date'] >= '2012-01-04') & (main_df['Date'] <= '2021-12-31')]['C_Dax40_Loss']\n",
    "\n",
    "# # Sort the losses in ascending order\n",
    "# sorted_dax40_losses = dax40_losses.sort_values()\n",
    "\n",
    "# # Calculate the index for the VaR based on the confidence level\n",
    "# var_index_dax40 = int((1 - confidence_level) * len(sorted_dax40_losses))\n",
    "\n",
    "# # Calculate VaR\n",
    "# VaR_dax40 = sorted_dax40_losses.iloc[var_index_dax40]\n",
    "\n",
    "# # Calculate ES (average of losses beyond VaR)\n",
    "# ES_dax40 = sorted_dax40_losses.iloc[:var_index_dax40].mean()\n",
    "\n",
    "# print(f\"VaR (DAX40) at {confidence_level * 100}% confidence level: {VaR_dax40}\")\n",
    "# print(f\"ES (DAX40) at {confidence_level * 100}% confidence level: {ES_dax40}\")\n",
    "\n",
    "# # Plot the sorted losses as a line graph\n",
    "# plt.figure(figsize=(10, 6))\n",
    "# plt.plot(sorted_dax40_losses.values, np.linspace(0, 1, len(sorted_dax40_losses), endpoint=False), label='Sorted Losses', color='blue')\n",
    "\n",
    "# # Highlight VaR and ES on the graph\n",
    "# plt.axvline(x=VaR_dax40, color='red', linestyle='--', label=f'VaR ({confidence_level * 100}%)')\n",
    "# plt.axvline(x=ES_dax40, color='green', linestyle='--', label=f'ES ({confidence_level * 100}%)')\n",
    "\n",
    "# # Add labels, title, and legend\n",
    "# plt.xlabel('Losses')\n",
    "# plt.ylabel('Probability')\n",
    "# plt.title('Sorted Losses with VaR and ES for DAX40')\n",
    "# plt.legend()\n",
    "# plt.grid()\n",
    "# plt.show()"
   ]
  },
  {
   "cell_type": "code",
   "execution_count": 28,
   "id": "e0c00332",
   "metadata": {},
   "outputs": [
    {
     "name": "stdout",
     "output_type": "stream",
     "text": [
      "VaR (Nikkei) at 95.0% confidence level: 3.0092212339999986\n",
      "ES (Nikkei) at 95.0% confidence level: 4.61174921890625\n"
     ]
    },
    {
     "data": {
      "image/png": "[encoded data removed]",
      "text/plain": [
       "<Figure size 1000x600 with 1 Axes>"
      ]
     },
     "metadata": {},
     "output_type": "display_data"
    }
   ],
   "source": [
    "confidence_level = 0.95\n",
    "\n",
    "# Extract historical losses for Nikkei\n",
    "nikkei_losses = main_df[(main_df['Date'] >= '2012-01-04') & (main_df['Date'] <= '2021-12-31')]['C_Nikkei_Loss']\n",
    "\n",
    "# Sort the losses in ascending order\n",
    "sorted_nikkei_losses = nikkei_losses.sort_values()\n",
    "\n",
    "# Calculate VaR at the specified confidence level\n",
    "# This finds the value at the threshold separating the worst (1-confidence_level)% losses\n",
    "VaR_nikkei = sorted_nikkei_losses.quantile(confidence_level)\n",
    "\n",
    "# Calculate ES (Expected Shortfall)\n",
    "# This is the average of the losses that are greater than or equal to the VaR value\n",
    "tail_nik_losses = sorted_nikkei_losses[sorted_nikkei_losses >= VaR_nikkei]\n",
    "ES_nikkei = tail_nik_losses.mean()\n",
    "\n",
    "print(f\"VaR (Nikkei) at {confidence_level * 100}% confidence level: {VaR_nikkei}\")\n",
    "print(f\"ES (Nikkei) at {confidence_level * 100}% confidence level: {ES_nikkei}\")\n",
    "\n",
    "# Plot the sorted losses as a line graph\n",
    "plt.figure(figsize=(10, 6))\n",
    "plt.plot(sorted_nikkei_losses.values, np.linspace(0, 1, len(sorted_nikkei_losses), endpoint=False), label='Sorted Losses', color='blue')\n",
    "\n",
    "# Highlight VaR and ES on the graph\n",
    "plt.axvline(x=VaR_nikkei, color='red', linestyle='--', label=f'VaR ({confidence_level * 100}%)')\n",
    "plt.axvline(x=ES_nikkei, color='green', linestyle='--', label=f'ES ({confidence_level * 100}%)')\n",
    "\n",
    "# Add labels, title, and legend\n",
    "plt.xlabel('Losses')\n",
    "plt.ylabel('Probability')\n",
    "plt.title('Sorted Losses with VaR and ES for Nikkei')\n",
    "plt.legend()\n",
    "plt.grid()\n",
    "plt.show()"
   ]
  },
  {
   "cell_type": "code",
   "execution_count": 25,
   "id": "c4fd2ee4",
   "metadata": {
    "vscode": {
     "languageId": "ruby"
    }
   },
   "outputs": [],
   "source": [
    "# confidence_level = 0.95\n",
    "\n",
    "# # Extract historical losses for Nikkei\n",
    "# nikkei_losses = main_df[(main_df['Date'] >= '2012-01-04') & (main_df['Date'] <= '2021-12-31')]['C_Nikkei_Loss']\n",
    "\n",
    "# # Sort the losses in ascending order\n",
    "# sorted_nikkei_losses = nikkei_losses.sort_values()\n",
    "\n",
    "# # Calculate the index for the VaR based on the confidence level\n",
    "# var_index_nikkei = int((1 - confidence_level) * len(sorted_nikkei_losses))\n",
    "\n",
    "# # Calculate VaR\n",
    "# VaR_nikkei = sorted_nikkei_losses.iloc[var_index_nikkei]\n",
    "\n",
    "# # Calculate ES (average of losses beyond VaR)\n",
    "# ES_nikkei = sorted_nikkei_losses.iloc[:var_index_nikkei].mean()\n",
    "\n",
    "# print(f\"VaR (Nikkei) at {confidence_level * 100}% confidence level: {VaR_nikkei}\")\n",
    "# print(f\"ES (Nikkei) at {confidence_level * 100}% confidence level: {ES_nikkei}\")\n",
    "\n",
    "# # Plot the sorted losses as a line graph\n",
    "# plt.figure(figsize=(10, 6))\n",
    "# plt.plot(sorted_nikkei_losses.values, np.linspace(0, 1, len(sorted_nikkei_losses), endpoint=False), label='Sorted Losses', color='blue')\n",
    "\n",
    "# # Highlight VaR and ES on the graph\n",
    "# plt.axvline(x=VaR_nikkei, color='red', linestyle='--', label=f'VaR ({confidence_level * 100}%)')\n",
    "# plt.axvline(x=ES_nikkei, color='green', linestyle='--', label=f'ES ({confidence_level * 100}%)')\n",
    "\n",
    "# # Add labels, title, and legend\n",
    "# plt.xlabel('Losses')\n",
    "# plt.ylabel('Probability')\n",
    "# plt.title('Sorted Losses with VaR and ES for Nikkei')\n",
    "# plt.legend()\n",
    "# plt.grid()\n",
    "# plt.show()"
   ]
  }
 ],
 "metadata": {
  "kernelspec": {
   "display_name": "Python 3",
   "language": "python",
   "name": "python3"
  },
  "language_info": {
   "codemirror_mode": {
    "name": "ipython",
    "version": 3
   },
   "file_extension": ".py",
   "mimetype": "text/x-python",
   "name": "python",
   "nbconvert_exporter": "python",
   "pygments_lexer": "ipython3",
   "version": "3.12.8"
  }
 },
 "nbformat": 4,
 "nbformat_minor": 5
}
