{
 "cells": [
  {
   "cell_type": "markdown",
   "id": "4bc2ba2c",
   "metadata": {},
   "source": [
    "### Initial package imports"
   ]
  },
  {
   "cell_type": "code",
   "execution_count": null,
   "id": "18f45638",
   "metadata": {},
   "outputs": [],
   "source": [
    "import pandas as pd"
   ]
  },
  {
   "cell_type": "markdown",
   "id": "1c440bd4",
   "metadata": {},
   "source": [
    "## Initial files being read in and dataset creation"
   ]
  },
  {
   "cell_type": "code",
   "execution_count": null,
   "id": "9a9ce118",
   "metadata": {},
   "outputs": [],
   "source": [
    "# Read the data\n",
    "main_df = pd.read_csv('Data/Cleaned_Indices_Assignment1.csv', sep=';')\n",
    "\n",
    "# Read the interest rate data\n",
    "interest_rate_df = pd.read_csv('Data/ECB_Data_10yr_Treasury_Bond.csv', sep=';')\n",
    "\n",
    "# Convert date columns to datetime format for proper merging\n",
    "main_df['Date'] = pd.to_datetime(main_df['Date'], format='%d-%m-%Y')\n",
    "interest_rate_df['Date'] = pd.to_datetime(interest_rate_df['Date'], format='%d-%m-%Y')\n",
    "\n",
    "# Merge the dataframes on the Date column\n",
    "main_df = pd.merge(main_df, interest_rate_df, on='Date', how='left')"
   ]
  }
 ],
 "metadata": {
  "kernelspec": {
   "display_name": ".venv",
   "language": "python",
   "name": "python3"
  },
  "language_info": {
   "name": "python",
   "version": "3.12.2"
  }
 },
 "nbformat": 4,
 "nbformat_minor": 5
}
